{
 "cells": [
  {
   "cell_type": "markdown",
   "id": "5aab4c59-374f-4265-b477-5771521c1205",
   "metadata": {},
   "source": [
    "\n",
    "# Complete Numpy documentation\n",
    "![image.png]\n",
    "(attachment:e68df9a0-28a0-46c8-b643-6e13574d3be3.png)"
   ]
  },
  {
   "cell_type": "markdown",
   "id": "341362f0-5e24-489d-91df-3d9daf50bf9a",
   "metadata": {},
   "source": [
    "# 1. Array Creationfunctions"
   ]
  },
  {
   "cell_type": "code",
   "execution_count": 1,
   "id": "d68276fe-1865-479f-9ba0-339aa800ec2a",
   "metadata": {},
   "outputs": [],
   "source": [
    "import numpy as np"
   ]
  },
  {
   "cell_type": "code",
   "execution_count": 3,
   "id": "510b02a8-2511-49f7-a956-84ebe6ec29d8",
   "metadata": {},
   "outputs": [
    {
     "name": "stdout",
     "output_type": "stream",
     "text": [
      "array a: [1 2 3 4]\n"
     ]
    }
   ],
   "source": [
    "# creat an array from a list\n",
    "a = np.array([1,2,3,4,])\n",
    "print(\"array a:\",a)"
   ]
  },
  {
   "cell_type": "code",
   "execution_count": 4,
   "id": "ada67a98-6561-4a73-9619-e52f941f439b",
   "metadata": {},
   "outputs": [
    {
     "name": "stdout",
     "output_type": "stream",
     "text": [
      "array b: [0 2 4 6 8]\n"
     ]
    }
   ],
   "source": [
    "# creat an array with evenly spaced values\n",
    "b = np.arange(0,10,2)     # values from 0 to 10 step 2\n",
    "print(\"array b:\",b)"
   ]
  },
  {
   "cell_type": "code",
   "execution_count": 7,
   "id": "d14fe8ed-1272-4c47-9989-d891155d1a00",
   "metadata": {},
   "outputs": [
    {
     "name": "stdout",
     "output_type": "stream",
     "text": [
      "array c: [0.   0.25 0.5  0.75 1.  ]\n"
     ]
    }
   ],
   "source": [
    "# creat an array with line space values\n",
    "c = np.linspace(0,1,5)\n",
    "print(\"array c:\",c)"
   ]
  },
  {
   "cell_type": "code",
   "execution_count": 9,
   "id": "ac8f62b5-259d-4359-b66c-f9998dcfaecd",
   "metadata": {},
   "outputs": [
    {
     "name": "stdout",
     "output_type": "stream",
     "text": [
      "array d:\n",
      " [[0. 0. 0.]\n",
      " [0. 0. 0.]]\n"
     ]
    }
   ],
   "source": [
    "#   creat an array filled with zeros\n",
    "d = np.zeros((2,3))    #  2x3 array of zeros\n",
    "print(\"array d:\\n\", d)"
   ]
  },
  {
   "cell_type": "code",
   "execution_count": 11,
   "id": "72f7531c-3aec-4e30-bc7a-e765a3dec5ff",
   "metadata": {},
   "outputs": [
    {
     "name": "stdout",
     "output_type": "stream",
     "text": [
      "array e:\n",
      " [[1. 1.]\n",
      " [1. 1.]\n",
      " [1. 1.]]\n"
     ]
    }
   ],
   "source": [
    "# creatan array filled with ones \n",
    "e = np.ones((3,2))  # 3x2 array of ones\n",
    "print(\"array e:\\n\", e)"
   ]
  },
  {
   "cell_type": "code",
   "execution_count": 13,
   "id": "6b6df820-eb27-4956-843d-cba6cd58e725",
   "metadata": {},
   "outputs": [
    {
     "name": "stdout",
     "output_type": "stream",
     "text": [
      " identity matrix f:\n",
      " [[1. 0. 0. 0.]\n",
      " [0. 1. 0. 0.]\n",
      " [0. 0. 1. 0.]\n",
      " [0. 0. 0. 1.]]\n"
     ]
    }
   ],
   "source": [
    "# creat an identity matrix \n",
    "f = np.eye(4)   # 4x4array of ones\n",
    "print(\" identity matrix f:\\n\", f)"
   ]
  },
  {
   "cell_type": "markdown",
   "id": "db3a0262-f23b-456b-b087-4cbf9e8703a7",
   "metadata": {},
   "source": [
    "# 2. Array Manupulation Function"
   ]
  },
  {
   "cell_type": "code",
   "execution_count": 16,
   "id": "6d0707c0-e20d-4814-961e-adfb0f0c7c16",
   "metadata": {},
   "outputs": [
    {
     "name": "stdout",
     "output_type": "stream",
     "text": [
      "reshaped array: [[1 2 3]]\n"
     ]
    }
   ],
   "source": [
    "#  rashape in array\n",
    "a1 = np.array([1,2,3])\n",
    "reshape =np.reshape(a1,(1,3))   # rershape into 1x3\n",
    "print(\"reshaped array:\",reshape)"
   ]
  },
  {
   "cell_type": "code",
   "execution_count": 18,
   "id": "bb18f2c0-9ab7-4032-b72d-8c9b2bbacff0",
   "metadata": {},
   "outputs": [
    {
     "name": "stdout",
     "output_type": "stream",
     "text": [
      "flattend array: [1 2 3 4]\n"
     ]
    }
   ],
   "source": [
    "     # flattend an array  # \n",
    "f1 = np.array([[1,2],[3,4]])    # flaten to 1d array\n",
    "flattend = np.ravel(f1)\n",
    "print(\"flattend array:\",flattend)"
   ]
  },
  {
   "cell_type": "code",
   "execution_count": 20,
   "id": "240072b7-5549-45ef-aaef-370943bd4f1e",
   "metadata": {},
   "outputs": [
    {
     "name": "stdout",
     "output_type": "stream",
     "text": [
      "transposed array:\n",
      " [[1 3]\n",
      " [2 4]]\n"
     ]
    }
   ],
   "source": [
    "e1 = np.array([[1,2],[3,4]])     # transposted an array\n",
    "transposed = np.transpose(e1)  # transposed the array\n",
    "print(\"transposed array:\\n\",transposed)"
   ]
  },
  {
   "cell_type": "code",
   "execution_count": 22,
   "id": "83849f61-f796-4e6c-9845-206c0a103f57",
   "metadata": {},
   "outputs": [
    {
     "name": "stdout",
     "output_type": "stream",
     "text": [
      "Transposed array:\n",
      " [[1 3]\n",
      " [2 4]]\n"
     ]
    }
   ],
   "source": [
    "# Transpose an array\n",
    "e1 = np.array([[1, 2], [3, 4]])\n",
    "transposed = np.transpose(e1)  # Transpose the array\n",
    "print(\"Transposed array:\\n\", transposed)"
   ]
  },
  {
   "cell_type": "code",
   "execution_count": 24,
   "id": "e10e0aba-6771-484a-9a7d-27c928e20040",
   "metadata": {},
   "outputs": [
    {
     "name": "stdout",
     "output_type": "stream",
     "text": [
      "stacked array:\n",
      " [[1 2]\n",
      " [3 4]]\n"
     ]
    }
   ],
   "source": [
    "# stack array vartically\n",
    "a2 = np.array([1, 2])\n",
    "b2 = np.array([3, 4])\n",
    "stacked = np.vstack([a2, b2])\n",
    "print(\"stacked array:\\n\",stacked)"
   ]
  },
  {
   "cell_type": "markdown",
   "id": "143f761d-7f70-4fb6-906b-76d0351cba67",
   "metadata": {},
   "source": [
    "# 3. Mathematical function \n"
   ]
  },
  {
   "cell_type": "code",
   "execution_count": 27,
   "id": "835102ad-0902-48db-b652-f24b0cd691d0",
   "metadata": {},
   "outputs": [
    {
     "name": "stdout",
     "output_type": "stream",
     "text": [
      "added 2 to g: [3 4 5 6]\n"
     ]
    }
   ],
   "source": [
    "#  add 2 array\n",
    "g = np.array([1, 2, 3, 4,])\n",
    "added = np.add(g, 2)  # add 2 to each element\n",
    "print(\"added 2 to g:\",added)"
   ]
  },
  {
   "cell_type": "code",
   "execution_count": 29,
   "id": "57b8b63e-9a49-4809-a2ae-23e4c2b95d8c",
   "metadata": {},
   "outputs": [
    {
     "name": "stdout",
     "output_type": "stream",
     "text": [
      "squared g: [ 1  4  9 16]\n"
     ]
    }
   ],
   "source": [
    "# square each element\n",
    "squared = np.power(g, 2)  # square root of each elements\n",
    "print(\"squared g:\",squared)"
   ]
  },
  {
   "cell_type": "code",
   "execution_count": 31,
   "id": "5c9e7ca3-7faa-4a55-9d9c-dc7c16c5d141",
   "metadata": {},
   "outputs": [
    {
     "name": "stdout",
     "output_type": "stream",
     "text": [
      "sqrt_val g: [1.         1.41421356 1.73205081 2.        ]\n"
     ]
    }
   ],
   "source": [
    "# sqare root of each element \n",
    "sqrt_val = np.sqrt(g)     # square root of each element\n",
    "print(\"sqrt_val g:\",sqrt_val)"
   ]
  },
  {
   "cell_type": "code",
   "execution_count": 33,
   "id": "4426a3b9-c306-4d17-a23f-91be34e47c72",
   "metadata": {},
   "outputs": [
    {
     "name": "stdout",
     "output_type": "stream",
     "text": [
      "[1 2 3]\n",
      "[1 2 3 4]\n"
     ]
    }
   ],
   "source": [
    "print(a1)\n",
    "print(g)"
   ]
  },
  {
   "cell_type": "code",
   "execution_count": 35,
   "id": "b2120d24-aff3-450a-b238-105620d4b90d",
   "metadata": {},
   "outputs": [
    {
     "ename": "ValueError",
     "evalue": "shapes (3,) and (4,) not aligned: 3 (dim 0) != 4 (dim 0)",
     "output_type": "error",
     "traceback": [
      "\u001b[1;31m---------------------------------------------------------------------------\u001b[0m",
      "\u001b[1;31mValueError\u001b[0m                                Traceback (most recent call last)",
      "Cell \u001b[1;32mIn[35], line 3\u001b[0m\n\u001b[0;32m      1\u001b[0m \u001b[38;5;66;03m# dot product of 2 array\u001b[39;00m\n\u001b[0;32m      2\u001b[0m a2 \u001b[38;5;241m=\u001b[39m np\u001b[38;5;241m.\u001b[39marray([\u001b[38;5;241m1\u001b[39m, \u001b[38;5;241m2\u001b[39m, \u001b[38;5;241m3\u001b[39m,])\n\u001b[1;32m----> 3\u001b[0m dot_product \u001b[38;5;241m=\u001b[39m np\u001b[38;5;241m.\u001b[39mdot(a2, g)    \u001b[38;5;66;03m# dot product of a and g\u001b[39;00m\n\u001b[0;32m      4\u001b[0m \u001b[38;5;28mprint\u001b[39m(\u001b[38;5;124m\"\u001b[39m\u001b[38;5;124mdot product of a and g:\u001b[39m\u001b[38;5;124m\"\u001b[39m, dot_product)\n",
      "\u001b[1;31mValueError\u001b[0m: shapes (3,) and (4,) not aligned: 3 (dim 0) != 4 (dim 0)"
     ]
    }
   ],
   "source": [
    "# dot product of 2 array\n",
    "a2 = np.array([1, 2, 3,])\n",
    "dot_product = np.dot(a2, g)    # dot product of a and g\n",
    "print(\"dot product of a and g:\", dot_product)"
   ]
  },
  {
   "cell_type": "code",
   "execution_count": 37,
   "id": "8a59fd0b-11f4-4eae-adbd-f32e2f1e2ef6",
   "metadata": {},
   "outputs": [
    {
     "name": "stdout",
     "output_type": "stream",
     "text": [
      "[1 2 3 4]\n",
      "[1 2 3]\n"
     ]
    }
   ],
   "source": [
    "print(a)\n",
    "print(a1)"
   ]
  },
  {
   "cell_type": "code",
   "execution_count": 39,
   "id": "91b39e0b-b7ef-4928-9518-beebfced745b",
   "metadata": {},
   "outputs": [
    {
     "name": "stdout",
     "output_type": "stream",
     "text": [
      "dot product of a1 and a: [1 2 3]\n"
     ]
    }
   ],
   "source": [
    "a3 = np.array([1, 2, 3])\n",
    "dot_product =  np.dot(a1, 1)\n",
    "print(\"dot product of a1 and a:\",dot_product)"
   ]
  },
  {
   "cell_type": "markdown",
   "id": "2c14383e-dd9c-44f6-a5df-d5e1ac619018",
   "metadata": {},
   "source": [
    "# 4. Statistical Functions"
   ]
  },
  {
   "cell_type": "code",
   "execution_count": 42,
   "id": "377e2f65-0d6d-4c68-a8db-22a1e48a36a6",
   "metadata": {},
   "outputs": [
    {
     "name": "stdout",
     "output_type": "stream",
     "text": [
      "mean of s: 2.5\n"
     ]
    }
   ],
   "source": [
    "s = np.array([1, 2, 3, 4])\n",
    "mean =np.mean(s)\n",
    "print(\"mean of s:\", mean)"
   ]
  },
  {
   "cell_type": "code",
   "execution_count": 44,
   "id": "24c0c231-fdd1-4aa3-a05f-913a9095576e",
   "metadata": {},
   "outputs": [
    {
     "name": "stdout",
     "output_type": "stream",
     "text": [
      "standard division: 1.118033988749895\n"
     ]
    }
   ],
   "source": [
    "# standard division of array\n",
    "std_dev =  np.std(s)\n",
    "print(\"standard division:\", std_dev)"
   ]
  },
  {
   "cell_type": "code",
   "execution_count": 46,
   "id": "9adb3190-b5e9-43c9-97fc-efedf5e63fff",
   "metadata": {},
   "outputs": [
    {
     "name": "stdout",
     "output_type": "stream",
     "text": [
      "minimum of s: 1\n"
     ]
    }
   ],
   "source": [
    "# minimum elements of an array\n",
    "minimum = np.min(s)\n",
    "print(\"minimum of s:\",minimum)"
   ]
  },
  {
   "cell_type": "code",
   "execution_count": 48,
   "id": "4367a203-66e7-4a91-a5ee-5ca6ac955c5f",
   "metadata": {},
   "outputs": [
    {
     "name": "stdout",
     "output_type": "stream",
     "text": [
      "maximum of s: 4\n"
     ]
    }
   ],
   "source": [
    "#  maximum elements of an array\n",
    "maximum = np.max(s)\n",
    "print(\"maximum of s:\",maximum)\n"
   ]
  },
  {
   "cell_type": "markdown",
   "id": "b52870d6-47a8-4583-8925-aba158e72a96",
   "metadata": {},
   "source": [
    "# 5. Linear Algebra Functions"
   ]
  },
  {
   "cell_type": "code",
   "execution_count": 51,
   "id": "233ffe09-97d4-4c2e-b69e-a318ff744072",
   "metadata": {},
   "outputs": [],
   "source": [
    "# creat a matrix\n",
    "matrix = np.array([[1, 2],[3, 4]])"
   ]
  },
  {
   "cell_type": "code",
   "execution_count": 53,
   "id": "a04f9974-ceea-4ffe-860c-8014d9339bd6",
   "metadata": {},
   "outputs": [
    {
     "name": "stdout",
     "output_type": "stream",
     "text": [
      "Determinant of matrix: -2.0000000000000004\n"
     ]
    }
   ],
   "source": [
    "# Determinant of a matrix\n",
    "determinant = np.linalg.det(matrix)\n",
    "print(\"Determinant of matrix:\",determinant)"
   ]
  },
  {
   "cell_type": "code",
   "execution_count": 55,
   "id": "1775d056-d2fb-4aa5-a5f2-d3e4ab2001b3",
   "metadata": {},
   "outputs": [
    {
     "name": "stdout",
     "output_type": "stream",
     "text": [
      "imvers of matrix:\n",
      " [[-2.   1. ]\n",
      " [ 1.5 -0.5]]\n"
     ]
    }
   ],
   "source": [
    "# invers of matrix\n",
    "invers = np.linalg.inv(matrix)\n",
    "print(\"imvers of matrix:\\n\",invers)"
   ]
  },
  {
   "cell_type": "markdown",
   "id": "53689454-58fb-4b7c-a90e-c6d16c177d2b",
   "metadata": {},
   "source": [
    "# 6. Random sampling function "
   ]
  },
  {
   "cell_type": "code",
   "execution_count": 58,
   "id": "dddb5bdf-45ea-406d-a3e1-360e64f1aeda",
   "metadata": {},
   "outputs": [
    {
     "name": "stdout",
     "output_type": "stream",
     "text": [
      "random values: [0.24156175 0.0399536  0.49596135]\n"
     ]
    }
   ],
   "source": [
    "# genrate rendom values between 0 and 1\n",
    "random_vals = np.random.rand(3)\n",
    "print(\"random values:\", random_vals)"
   ]
  },
  {
   "cell_type": "code",
   "execution_count": 60,
   "id": "d58f913b-e76e-4dd3-8f5c-3c5b94d53661",
   "metadata": {},
   "outputs": [],
   "source": [
    "np.random.seed(0)"
   ]
  },
  {
   "cell_type": "code",
   "execution_count": 62,
   "id": "49e0cfc4-a87d-407d-b896-ec362d4cd5f0",
   "metadata": {},
   "outputs": [
    {
     "name": "stdout",
     "output_type": "stream",
     "text": [
      "random values: [0.5488135  0.71518937 0.60276338]\n"
     ]
    }
   ],
   "source": [
    "# genrate random values between 0 and 1\n",
    "random_vals = np.random .rand(3)\n",
    "print(\"random values:\",random_vals)"
   ]
  },
  {
   "cell_type": "code",
   "execution_count": 64,
   "id": "3afb032a-2d63-4a46-9968-445ccf4cc853",
   "metadata": {},
   "outputs": [
    {
     "name": "stdout",
     "output_type": "stream",
     "text": [
      "random integers: [3 7 9 3 5]\n"
     ]
    }
   ],
   "source": [
    "rand_int = np.random.randint(0, 10,size=5) # genrate random integer between 0 and 10\n",
    "print(\"random integers:\",rand_int)"
   ]
  },
  {
   "cell_type": "code",
   "execution_count": 66,
   "id": "115fbbfa-529f-4fe4-8d18-16c969fd2c4e",
   "metadata": {},
   "outputs": [
    {
     "name": "stdout",
     "output_type": "stream",
     "text": [
      "random integers: [2 4 7 6 8]\n"
     ]
    }
   ],
   "source": [
    "# set seed for repoducibillity\n",
    "rand_int = np.random.randint(0, 10, size=5)\n",
    "print(\"random integers:\",rand_int)"
   ]
  },
  {
   "cell_type": "markdown",
   "id": "6994b93d-de7d-4bae-8f24-b675993654b2",
   "metadata": {},
   "source": [
    "# 7.Boolean & Logical functions\n"
   ]
  },
  {
   "cell_type": "code",
   "execution_count": 73,
   "id": "f01e9964-c66c-4a33-ab2f-50661fd5b321",
   "metadata": {},
   "outputs": [
    {
     "name": "stdout",
     "output_type": "stream",
     "text": [
      "all elaments True: False\n"
     ]
    }
   ],
   "source": [
    "# check if all elaments are true\n",
    "# all \n",
    "logical_test = np.array([True, False, True])\n",
    "all_true = np.all(logical_test)\n",
    "print(\"all elaments True:\", all_true)"
   ]
  },
  {
   "cell_type": "code",
   "execution_count": 79,
   "id": "bd361b5c-8260-4f7c-a5e3-c07c58b9e090",
   "metadata": {},
   "outputs": [
    {
     "name": "stdout",
     "output_type": "stream",
     "text": [
      "all elamrnts True: False\n"
     ]
    }
   ],
   "source": [
    "# check iff all elements are true\n",
    "logical_test = np.array([True, False, True])\n",
    "all_true = np.all (logical_test)\n",
    "print(\"all elamrnts True:\",all_true)"
   ]
  },
  {
   "cell_type": "code",
   "execution_count": 81,
   "id": "6d8f482d-b4e4-403a-a68d-db50be7c3c9f",
   "metadata": {},
   "outputs": [
    {
     "name": "stdout",
     "output_type": "stream",
     "text": [
      "any elements true: True\n"
     ]
    }
   ],
   "source": [
    "# check if any elementsare true\n",
    "# any\n",
    "any_true = np.any(logical_test)\n",
    "print(\"any elements true:\",any_true)"
   ]
  },
  {
   "cell_type": "markdown",
   "id": "f1d34875-9838-44e4-b400-d9f8d8158d38",
   "metadata": {},
   "source": [
    "\n",
    "# 8. set operations"
   ]
  },
  {
   "cell_type": "code",
   "execution_count": 86,
   "id": "999fd1a8-1193-4c34-9ef8-8132abe9967a",
   "metadata": {},
   "outputs": [
    {
     "name": "stdout",
     "output_type": "stream",
     "text": [
      "intersected of a and b: [3 4]\n"
     ]
    }
   ],
   "source": [
    "# Intersections of two array\n",
    "set_a =np.array ([1, 2, 3, 4])\n",
    "set_b =np.array([3, 4, 5, 6])\n",
    "intersection = np.intersect1d(set_a, set_b)\n",
    "print(\"intersected of a and b:\",intersection)"
   ]
  },
  {
   "cell_type": "code",
   "execution_count": 90,
   "id": "635ec4fc-99cf-432a-a079-ec2097305800",
   "metadata": {},
   "outputs": [
    {
     "name": "stdout",
     "output_type": "stream",
     "text": [
      "union of a and b: [1 2 3 4 5 6]\n"
     ]
    }
   ],
   "source": [
    "#  union of two array\n",
    "union = np.union1d(set_a, set_b)\n",
    "print(\"union of a and b:\",union)"
   ]
  },
  {
   "cell_type": "markdown",
   "id": "88bcc6de-8dd9-4058-8d29-02525b839966",
   "metadata": {},
   "source": [
    "#  9. Array Attribute Functions"
   ]
  },
  {
   "cell_type": "code",
   "execution_count": 95,
   "id": "5b6779d9-c6b9-4d73-acf2-583e711f3ffa",
   "metadata": {},
   "outputs": [
    {
     "name": "stdout",
     "output_type": "stream",
     "text": [
      "shape of a: (4,)\n",
      "size of a: 4\n",
      " number of dimension of a: 1\n",
      "data type of a: int32\n"
     ]
    }
   ],
   "source": [
    "# attribute  array\n",
    "a = np.array ([1, 2, 3, 4,])\n",
    "shape = a.shape\n",
    "size = a.size\n",
    "dimension = a.ndim\n",
    "dtype = a.dtype\n",
    "\n",
    "print(\"shape of a:\", shape)\n",
    "print(\"size of a:\", size)\n",
    "print(\" number of dimension of a:\", dimension)\n",
    "print(\"data type of a:\", dtype)\n"
   ]
  },
  {
   "cell_type": "markdown",
   "id": "4cb93715-2524-4159-921d-17a8935288ff",
   "metadata": {},
   "source": [
    "# 10. other functions\n"
   ]
  },
  {
   "cell_type": "code",
   "execution_count": 98,
   "id": "0e1e419b-530d-40d3-9258-c9af75db9e25",
   "metadata": {},
   "outputs": [
    {
     "name": "stdout",
     "output_type": "stream",
     "text": [
      "copy of a: [1 2 3 4]\n"
     ]
    }
   ],
   "source": [
    "# creat of new copy an array\n",
    "a= np.array([1, 2, 3, 4])\n",
    "copied_array = np.copy(a)\n",
    "print(\"copy of a:\", copied_array)"
   ]
  },
  {
   "cell_type": "code",
   "execution_count": 102,
   "id": "ac9421fe-f628-40f6-92a2-b9c661180049",
   "metadata": {},
   "outputs": [
    {
     "name": "stdout",
     "output_type": "stream",
     "text": [
      "size of a in bytes: 16\n"
     ]
    }
   ],
   "source": [
    "# size inbytes of an array\n",
    "array_size_in_bytes = a.nbytes\n",
    "print(\"size of a in bytes:\", array_size_in_bytes)"
   ]
  },
  {
   "cell_type": "code",
   "execution_count": 104,
   "id": "3748a3af-e8d4-486e-8f8d-00ab3dc588e1",
   "metadata": {},
   "outputs": [
    {
     "name": "stdout",
     "output_type": "stream",
     "text": [
      "do a and copied_array share memory?: False\n"
     ]
    }
   ],
   "source": [
    "# check two array share memory\n",
    "shared = np.shares_memory(a, copied_array)\n",
    "print(\"do a and copied_array share memory?:\", shared)"
   ]
  },
  {
   "cell_type": "markdown",
   "id": "0e474587-6bd8-4499-a5ed-d03d3f941f3e",
   "metadata": {},
   "source": [
    "# ============= Thank You ==================================="
   ]
  },
  {
   "cell_type": "code",
   "execution_count": null,
   "id": "7153f25e-1836-4f0a-998a-f80d6eafbcc4",
   "metadata": {},
   "outputs": [],
   "source": []
  }
 ],
 "metadata": {
  "kernelspec": {
   "display_name": "Python [conda env:base] *",
   "language": "python",
   "name": "conda-base-py"
  },
  "language_info": {
   "codemirror_mode": {
    "name": "ipython",
    "version": 3
   },
   "file_extension": ".py",
   "mimetype": "text/x-python",
   "name": "python",
   "nbconvert_exporter": "python",
   "pygments_lexer": "ipython3",
   "version": "3.12.7"
  }
 },
 "nbformat": 4,
 "nbformat_minor": 5
}
